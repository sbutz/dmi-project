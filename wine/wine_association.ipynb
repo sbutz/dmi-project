{
 "cells": [
  {
   "cell_type": "markdown",
   "metadata": {},
   "source": [
    "# Assoziaionsanlayse\n",
    "\n",
    "Untersucht wird nur der Datensatz der Rotweine (~1600 Zeilen).\n",
    "Der Datensatz der Weißweine ist zu groß (~5000 Zielen)."
   ]
  },
  {
   "cell_type": "markdown",
   "metadata": {},
   "source": [
    "## Setup"
   ]
  },
  {
   "cell_type": "code",
   "execution_count": null,
   "metadata": {},
   "outputs": [],
   "source": [
    "# Setup\n",
    "from mlxtend.frequent_patterns import apriori, association_rules\n",
    "from scipy import stats\n",
    "import matplotlib.pyplot as plt\n",
    "import numpy as np\n",
    "import pandas as pd\n",
    "import pandas.plotting"
   ]
  },
  {
   "cell_type": "code",
   "execution_count": null,
   "metadata": {},
   "outputs": [],
   "source": [
    "# Einelsen der Daten\n",
    "df_red = pd.read_csv('winequality-red-filtered.csv', sep=';', header=0) \n",
    "df_white = pd.read_csv('winequality-white-filtered.csv', sep=';', header=0) "
   ]
  },
  {
   "cell_type": "markdown",
   "metadata": {},
   "source": [
    "## Scatter-Plots"
   ]
  },
  {
   "cell_type": "code",
   "execution_count": null,
   "metadata": {},
   "outputs": [],
   "source": [
    "def scatter(df, columns):\n",
    "    pd.plotting.scatter_matrix(df[columns],\n",
    "        figsize=(15, 15),\n",
    "        marker=\"o\",\n",
    "        c=df['quality'].values,\n",
    "        s=30,\n",
    "        alpha=0.8,\n",
    "    )\n",
    "    plt.show()"
   ]
  },
  {
   "cell_type": "markdown",
   "metadata": {},
   "source": [
    "### Feste Säureanteile - Citronensäure - PH-Wert - Dichte"
   ]
  },
  {
   "cell_type": "code",
   "execution_count": null,
   "metadata": {},
   "outputs": [],
   "source": [
    "scatter(df_red, [\"fixed acidity\",\"citric acid\",\"density\",\"pH\"])"
   ]
  },
  {
   "cell_type": "markdown",
   "metadata": {},
   "source": [
    "### Schwefeloxide - freie Schwefeloxide"
   ]
  },
  {
   "cell_type": "code",
   "execution_count": null,
   "metadata": {},
   "outputs": [],
   "source": [
    "\n",
    "scatter(df_red, [\"free sulfur dioxide\",\"total sulfur dioxide\"])"
   ]
  },
  {
   "cell_type": "markdown",
   "metadata": {},
   "source": [
    "### Flüchtige Säureanteile - Alkohol - Qualität"
   ]
  },
  {
   "cell_type": "code",
   "execution_count": null,
   "metadata": {},
   "outputs": [],
   "source": [
    "\n",
    "scatter(df_red, [\"volatile acidity\",\"alcohol\",\"quality\"])"
   ]
  },
  {
   "cell_type": "markdown",
   "metadata": {},
   "source": [
    "## Einteilung in Klassen\n",
    "Um Support, Konfidenz und Lift verschiedener Ereignisse zu berechnen, werden die kontinuierlichen Daten diskretisiert."
   ]
  },
  {
   "cell_type": "code",
   "execution_count": null,
   "metadata": {},
   "outputs": [],
   "source": [
    "# Einteilung in je 3 Klassen (unter 25%, 25-75%, ueber 75% Quantil)\n",
    "# ==> Binäre Matrix für mlextends Funktionen\n",
    "df = pd.DataFrame()\n",
    "for c in df_red.columns:\n",
    "    q_25 = df_red[c].quantile(q=0.25)\n",
    "    q_75 = df_red[c].quantile(q=0.75)\n",
    "    print(f'{c}:  {q_25}  {q_75}')\n",
    "    #df[f'{c}_low'] = df_red[c].le(q_25).astype(int)\n",
    "    #df[f'{c}_mid'] = df_red[c].between(q_25, q_75, inclusive='right').astype(int)\n",
    "    df[f'{c}_low'] = df_red[c].le(q_75).astype(int)\n",
    "    df[f'{c}_high'] = df_red[c].gt(q_75).astype(int)"
   ]
  },
  {
   "cell_type": "code",
   "execution_count": null,
   "metadata": {},
   "outputs": [],
   "source": [
    "pd.set_option('display.max_rows', None)\n",
    "pd.set_option('display.max_columns', None)\n",
    "pd.set_option('display.expand_frame_repr', False)"
   ]
  },
  {
   "cell_type": "markdown",
   "metadata": {},
   "source": [
    "### Konfidenz"
   ]
  },
  {
   "cell_type": "code",
   "execution_count": null,
   "metadata": {},
   "outputs": [],
   "source": [
    "# hohe konfidenz\n",
    "\"\"\" Ergebnis:\n",
    "- zusammenhang niedriger freier schwefelanteil und niedriger gesamtschwefelanteil\n",
    "- wenig alkohol -> niedrigere qualitaet (wenig alkhol, weniger suesse trauben, billiger)\n",
    "- wenig sulfate -> niedrigere qualitaet\n",
    "- viel schwefel -> niedrigere qualitaet (schwefel = haltbarkeitsmittel, mehr noetig bei faulen trauben)\n",
    "- hohe fluechtige saeureanteile -> niedrigere qualitaet\n",
    "- zusammenhang hohe citronensaeuere und viel feste saeure\n",
    "- zusammenhang ph-wert saeure\n",
    "- zusammenhang freier und gesamt schwefel\n",
    "- zusammenhang hoher alkohol -> geringe dichte\n",
    "==> zusammenhaenge bestaetigt\n",
    "==> neu: kriterien fuer schlechten wein gefunden (lift allerdings oft nicht hoch)\n",
    "\n",
    "2 Klassen:\n",
    "- hohe dichte -> alkohol low und geringere qualitaet\n",
    "- wenig citronensaeure -> qualiaet low (geringer lift)\n",
    "- ph high -> qualitaet low (geringer lift)\n",
    "\"\"\"\n",
    "# Auch mit max_len=3 und head(30) getestet\n",
    "analysis = apriori(df, min_support=0.05, use_colnames=True, max_len=2)\n",
    "rules = association_rules(analysis, min_threshold=0.00)\n",
    "rules.sort_values(by=\"confidence\", ascending=False, inplace=True)\n",
    "print(rules.head(20))"
   ]
  },
  {
   "cell_type": "markdown",
   "metadata": {},
   "source": [
    "### Lift"
   ]
  },
  {
   "cell_type": "code",
   "execution_count": null,
   "metadata": {},
   "outputs": [],
   "source": [
    "# hoher lift\n",
    "\"\"\"Erkenntnis\n",
    "- alkohol high -> quality high (geringe konfidenz aber hoher lift)\n",
    "- fluechtige saeuren low -> quality_high (geringe konfidenz, aber hoher lift)\n",
    "- viele sulfate -> quality high\n",
    "==> nicht auschlaggebend, aber macht guten wein wahrscheinlicher, als 2./3. auswahlkriterium\n",
    "\n",
    "2 Klassen:\n",
    "- viel citronensaeure -> quality high (gerine konfidenz)\n",
    "\"\"\"\n",
    "analysis = apriori(df, min_support=0.05, use_colnames=True, max_len=2)\n",
    "rules = association_rules(analysis, min_threshold=0.00)\n",
    "rules.sort_values(by=\"lift\", ascending=False, inplace=True)\n",
    "print(rules.head(20))"
   ]
  },
  {
   "cell_type": "code",
   "execution_count": null,
   "metadata": {},
   "outputs": [],
   "source": [
    "# lift near 1\n",
    "\"\"\" Erkenntis\n",
    "Leider Attribute findbar die keinen Einfluss auf gut/schlechte Qualitaet haben.\n",
    "=> So notieren und zeigen, dass man an lift near 1 gedacht hat\n",
    "\n",
    "2 Klassen (Mit max_len2):\n",
    "hoher restzucker, wenig fluechtige, .... -> keinen Einfluss auf qualitaet low\n",
    "\"\"\"\n",
    "analysis = apriori(df, min_support=0.05, use_colnames=True, max_len=2)\n",
    "rules = association_rules(analysis, min_threshold=0.00)\n",
    "rules = rules[rules.lift.between(0.95,1.05)]\n",
    "rules = rules[rules.consequents.apply(lambda c: bool(c.intersection({\"quality_low\",\"quality_mid\",\"quality_high\"})))]\n",
    "rules.sort_values(by=\"lift\", ascending=True, inplace=True)\n",
    "print(rules)"
   ]
  },
  {
   "cell_type": "code",
   "execution_count": null,
   "metadata": {},
   "outputs": [],
   "source": [
    "# lift low\n",
    "\"\"\" Erkenntis\n",
    "- wenig freie sauere -> unwahrscheinlicher dass wein schlecht\n",
    "- viele sulfate -> unwahrscheinlicher dass wein schlecht\n",
    "- mittlere dicht -> hoher alkohol gehalt unwahrscheinlicher\n",
    "\n",
    "2 Klassen (und max_len=2)\n",
    "- wenig alk -> guter wein unwahrscheinlicher\n",
    "- und viel mehr\n",
    "\"\"\"\n",
    "analysis = apriori(df, min_support=0.05, use_colnames=True, max_len=2)\n",
    "rules = association_rules(analysis, min_threshold=0.00)\n",
    "rules = rules[rules.consequents.apply(lambda c: bool(c.intersection({\"quality_low\",\"quality_mid\",\"quality_high\"})))]\n",
    "rules.sort_values(by=\"lift\", ascending=True, inplace=True)\n",
    "print(rules.head(30))"
   ]
  }
 ],
 "metadata": {
  "interpreter": {
   "hash": "3e66ebd9e06655030854f0576b2d6083431f97733d04263bc8805d906736533f"
  },
  "kernelspec": {
   "display_name": "Python 3.9.9 64-bit ('.venv': venv)",
   "language": "python",
   "name": "python3"
  },
  "language_info": {
   "codemirror_mode": {
    "name": "ipython",
    "version": 3
   },
   "file_extension": ".py",
   "mimetype": "text/x-python",
   "name": "python",
   "nbconvert_exporter": "python",
   "pygments_lexer": "ipython3",
   "version": "3.9.9"
  },
  "orig_nbformat": 4
 },
 "nbformat": 4,
 "nbformat_minor": 2
}
