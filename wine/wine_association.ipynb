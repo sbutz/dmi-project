{
 "cells": [
  {
   "cell_type": "markdown",
   "metadata": {},
   "source": [
    "# Assoziaionsanlayse\n",
    "\n",
    "Untersucht wird nur der Datensatz der Rotweine (~1600 Zeilen).\n",
    "Der Datensatz der Weißweine ist zu groß (~5000 Zielen)."
   ]
  },
  {
   "cell_type": "markdown",
   "metadata": {},
   "source": [
    "## Setup"
   ]
  },
  {
   "cell_type": "code",
   "execution_count": null,
   "metadata": {},
   "outputs": [],
   "source": [
    "# Setup\n",
    "from mlxtend.frequent_patterns import apriori, association_rules\n",
    "from scipy import stats\n",
    "import matplotlib.pyplot as plt\n",
    "import numpy as np\n",
    "import pandas as pd\n",
    "import pandas.plotting"
   ]
  },
  {
   "cell_type": "code",
   "execution_count": null,
   "metadata": {},
   "outputs": [],
   "source": [
    "# Einelsen der Daten\n",
    "df_red = pd.read_csv('winequality-red-filtered.csv', sep=';', header=0) \n",
    "df_white = pd.read_csv('winequality-white-filtered.csv', sep=';', header=0) "
   ]
  },
  {
   "cell_type": "markdown",
   "metadata": {},
   "source": [
    "## Scatter-Plots"
   ]
  },
  {
   "cell_type": "code",
   "execution_count": null,
   "metadata": {},
   "outputs": [],
   "source": [
    "def scatter(df, columns):\n",
    "    pd.plotting.scatter_matrix(df[columns],\n",
    "        figsize=(15, 15),\n",
    "        marker=\"o\",\n",
    "        c=df['quality'].values,\n",
    "        s=30,\n",
    "        alpha=0.8,\n",
    "    )\n",
    "    plt.show()"
   ]
  },
  {
   "cell_type": "markdown",
   "metadata": {},
   "source": [
    "### Säureanteile - PH-Wert"
   ]
  },
  {
   "cell_type": "code",
   "execution_count": null,
   "metadata": {},
   "outputs": [],
   "source": [
    "scatter(df_red, [\"volatile acidity\", \"fixed acidity\",\"citric acid\",\"pH\"])"
   ]
  },
  {
   "cell_type": "markdown",
   "metadata": {},
   "source": [
    "### Säureanteile - Alkohol - Dichte"
   ]
  },
  {
   "cell_type": "code",
   "execution_count": null,
   "metadata": {},
   "outputs": [],
   "source": [
    "scatter(df_red, [\"fixed acidity\",\"alcohol\",\"density\"])"
   ]
  },
  {
   "cell_type": "markdown",
   "metadata": {},
   "source": [
    "### Schwefeloxide - freie Schwefeloxide"
   ]
  },
  {
   "cell_type": "code",
   "execution_count": null,
   "metadata": {},
   "outputs": [],
   "source": [
    "scatter(df_red, [\"free sulfur dioxide\",\"total sulfur dioxide\"])"
   ]
  },
  {
   "cell_type": "markdown",
   "metadata": {},
   "source": [
    "### Flüchtige Säureanteile - Alkohol - Qualität"
   ]
  },
  {
   "cell_type": "code",
   "execution_count": null,
   "metadata": {},
   "outputs": [],
   "source": [
    "scatter(df_red, [\"volatile acidity\",\"alcohol\",\"quality\"])"
   ]
  },
  {
   "cell_type": "markdown",
   "metadata": {},
   "source": [
    "## Einteilung in Klassen\n",
    "Um Support, Konfidenz und Lift verschiedener Ereignisse zu berechnen, werden die kontinuierlichen Daten diskretisiert."
   ]
  },
  {
   "cell_type": "code",
   "execution_count": null,
   "metadata": {},
   "outputs": [],
   "source": [
    "# Einteilung in je 3 Klassen (unter 25%, 25-75%, ueber 75% Quantil)\n",
    "# Erstellung einer binäre Matrix für apriori\n",
    "#\n",
    "# alternative Einteilung in 2 Klassen (unter/ueber 75%-Quantil)\n",
    "\n",
    "df = pd.DataFrame()\n",
    "for c in df_red.columns:\n",
    "    q_25 = df_red[c].quantile(q=0.25)\n",
    "    q_75 = df_red[c].quantile(q=0.75)\n",
    "    print(f'{c}:  {q_25}  {q_75}')\n",
    "    df[f'{c}_low'] = df_red[c].le(q_25).astype(int)\n",
    "    df[f'{c}_mid'] = df_red[c].between(q_25, q_75, inclusive='right').astype(int)\n",
    "    #df[f'{c}_low'] = df_red[c].le(q_75).astype(int)\n",
    "    df[f'{c}_high'] = df_red[c].gt(q_75).astype(int)"
   ]
  },
  {
   "cell_type": "code",
   "execution_count": null,
   "metadata": {},
   "outputs": [],
   "source": [
    "# Vollständig Ausgabe von Dataframes ohne Zeilenumbrüche\n",
    "pd.set_option('display.max_rows', None)\n",
    "pd.set_option('display.max_columns', None)\n",
    "pd.set_option('display.expand_frame_repr', False)"
   ]
  },
  {
   "cell_type": "markdown",
   "metadata": {},
   "source": [
    "### Konfidenz"
   ]
  },
  {
   "cell_type": "code",
   "execution_count": 73,
   "metadata": {},
   "outputs": [
    {
     "name": "stdout",
     "output_type": "stream",
     "text": [
      "                    antecedents                 consequents  antecedent support  consequent support   support  confidence      lift  leverage  conviction\n",
      "695  (total sulfur dioxide_low)   (free sulfur dioxide_low)            0.253553            0.255797  0.192221    0.758112  2.963731  0.127363    3.076646\n",
      "694   (free sulfur dioxide_low)  (total sulfur dioxide_low)            0.255797            0.253553  0.192221    0.751462  2.963731  0.127363    3.003353\n",
      "727   (free sulfur dioxide_mid)  (total sulfur dioxide_mid)            0.497382            0.498130  0.328347    0.660150  1.325257  0.080586    1.476741\n",
      "726  (total sulfur dioxide_mid)   (free sulfur dioxide_mid)            0.498130            0.497382  0.328347    0.659159  1.325257  0.080586    1.474641\n",
      "\n",
      "\n",
      "              antecedents           consequents  antecedent support  consequent support   support  confidence      lift  leverage  conviction\n",
      "120  (fixed acidity_high)    (citric acid_high)            0.242334            0.249813  0.166043    0.685185  2.742792  0.105505    2.382947\n",
      "121    (citric acid_high)  (fixed acidity_high)            0.249813            0.242334  0.166043    0.664671  2.742792  0.105505    2.259469\n",
      "\n",
      "\n",
      "              antecedents          consequents  antecedent support  consequent support   support  confidence      lift  leverage  conviction\n",
      "33              (pH_high)  (fixed acidity_low)            0.249065            0.262528  0.160060    0.642643  2.447901  0.094673    2.063682\n",
      "145  (fixed acidity_high)             (pH_low)            0.242334            0.253553  0.151832    0.626543  2.471057  0.090388    1.998751\n",
      "\n",
      "\n",
      "        antecedents    consequents  antecedent support  consequent support   support  confidence      lift  leverage  conviction\n",
      "880  (alcohol_high)  (density_low)            0.241586            0.256545  0.154076    0.637771  2.486005  0.092099    2.052446\n",
      "\n",
      "\n",
      "                      antecedents    consequents  antecedent support  consequent support   support  confidence      lift  leverage  conviction\n",
      "1005                (alcohol_low)  (quality_low)            0.259536            0.458489  0.185490    0.714697  1.558810  0.066495    1.898023\n",
      "980               (sulphates_low)  (quality_low)            0.261780            0.458489  0.183994    0.702857  1.532985  0.063971    1.822392\n",
      "314       (volatile acidity_high)  (quality_low)            0.247569            0.458489  0.158564    0.640483  1.396943  0.045056    1.506219\n",
      "864   (total sulfur dioxide_high)  (quality_low)            0.248317            0.458489  0.157816    0.635542  1.386166  0.043965    1.485798\n"
     ]
    }
   ],
   "source": [
    "\"\"\"\n",
    "Ergebnisse mit hoher Konfidenz:\n",
    "- Zusammenhang freier Schwefelanteil und Gesamtschwefelanteil\n",
    "- Zusammenhang feste Säureanteile und Citronensäure\n",
    "- Zusammenhang pH-Wert und Säureanteil\n",
    "- Zusammenhang Alkohl und Dichte\n",
    "==> chemische Zusammenhänge bestätigt\n",
    "\n",
    "- Wenig Alkohol -> mindere Qualität\n",
    "- Wenig Sulfate -> mindere Qualität\n",
    "- Viel Schwefel -> mindere Qualität (Schwefel ist Haltbarkeitsmittel mit schlechtem Geschmack, mehr nötig bei faulen Trauben)\n",
    "- Hoher Anteil flüchtiger Säuren -> mindere Qualität\n",
    "==> Indikatoren für schlechten Wein\n",
    "\"\"\"\n",
    "# Auch mit max_len=3 getestet\n",
    "analysis = apriori(df, min_support=0.05, use_colnames=True, max_len=2)\n",
    "rules = association_rules(analysis, min_threshold=0.00)\n",
    "rules.sort_values(by=\"confidence\", ascending=False, inplace=True)\n",
    "#print(rules)\n",
    "print(rules.loc[[695,694,727,726]])\n",
    "print(\"\\n\")\n",
    "print(rules.loc[[120,121]])\n",
    "print(\"\\n\")\n",
    "print(rules.loc[[33,145]])\n",
    "print(\"\\n\")\n",
    "print(rules.loc[[880]])\n",
    "print(\"\\n\")\n",
    "print(rules.loc[[1005,980,314,864]])"
   ]
  },
  {
   "cell_type": "markdown",
   "metadata": {},
   "source": [
    "### Lift"
   ]
  },
  {
   "cell_type": "code",
   "execution_count": 66,
   "metadata": {},
   "outputs": [
    {
     "name": "stdout",
     "output_type": "stream",
     "text": [
      "                 antecedents     consequents  antecedent support  consequent support   support  confidence      lift  leverage  conviction\n",
      "1014          (alcohol_high)  (quality_high)            0.241586             0.12715  0.081526    0.337461  2.654034  0.050808    1.317432\n",
      "210   (volatile acidity_low)  (quality_high)            0.255797             0.12715  0.074046    0.289474  2.276625  0.041522    1.228455\n",
      "1002        (sulphates_high)  (quality_high)            0.246073             0.12715  0.071055    0.288754  2.270964  0.039766    1.227212\n",
      "886            (density_low)  (quality_high)            0.256545             0.12715  0.062827    0.244898  1.926050  0.030208    1.155936\n"
     ]
    }
   ],
   "source": [
    "\"\"\"\n",
    "Ergebnisse mit hohem Lift, aber teils geringer Konfidenz:\n",
    "- Hoher Alkoholgehalt -> hohe Qualität\n",
    "- Wenig flüchtige Säuren -> hohe Qualität\n",
    "- Viele Sulfate -> hohe Qualität\n",
    "- Viel Citronensäure -> hohe Qualität\n",
    "==> nur bedingt Indikatoren für guten Wein\n",
    "\"\"\"\n",
    "analysis = apriori(df, min_support=0.05, use_colnames=True, max_len=2)\n",
    "rules = association_rules(analysis, min_threshold=0.00)\n",
    "rules.sort_values(by=\"lift\", ascending=False, inplace=True)\n",
    "#print(rules)\n",
    "print(rules.loc[[1014, 210, 1002, 886]])"
   ]
  },
  {
   "cell_type": "code",
   "execution_count": 60,
   "metadata": {},
   "outputs": [
    {
     "name": "stdout",
     "output_type": "stream",
     "text": [
      "                    antecedents    consequents  antecedent support  consequent support   support  confidence      lift  leverage  conviction\n",
      "938                    (pH_low)  (quality_low)            0.253553            0.458489  0.113687    0.448378  0.977946 -0.002564    0.981669\n",
      "580       (residual sugar_high)  (quality_low)            0.243082            0.458489  0.115931    0.476923  1.040206  0.004481    1.035241\n",
      "492        (residual sugar_low)  (quality_low)            0.298429            0.458489  0.142857    0.478697  1.044074  0.006031    1.038764\n",
      "786  (free sulfur dioxide_high)  (quality_low)            0.246821            0.458489  0.118175    0.478788  1.044273  0.005010    1.038945\n"
     ]
    }
   ],
   "source": [
    "\"\"\"\n",
    "Ergebnisse mit Lift nahe 1: Eigenschaften, die keine Einfluss darauf haben ob Wein schlecht ist\n",
    "- niedriger pH-Wert\n",
    "- niedriger/hoher Restzucker\n",
    "- viel freies Schwefeldioxid\n",
    "\"\"\"\n",
    "analysis = apriori(df, min_support=0.05, use_colnames=True, max_len=2)\n",
    "rules = association_rules(analysis, min_threshold=0.00)\n",
    "rules = rules[rules.lift.between(0.95,1.05)]\n",
    "rules = rules[rules.consequents.apply(lambda c: bool(c.intersection({\"quality_low\",\"quality_mid\",\"quality_high\"})))]\n",
    "rules.sort_values(by=\"lift\", ascending=True, inplace=True)\n",
    "#print(rules)\n",
    "print(rules.loc[[938, 580, 492, 786]])"
   ]
  },
  {
   "cell_type": "code",
   "execution_count": 62,
   "metadata": {},
   "outputs": [
    {
     "name": "stdout",
     "output_type": "stream",
     "text": [
      "                antecedents    consequents  antecedent support  consequent support   support  confidence      lift  leverage  conviction\n",
      "998        (sulphates_high)  (quality_low)            0.246073            0.458489  0.053852    0.218845  0.477318 -0.058970    0.693218\n",
      "206  (volatile acidity_low)  (quality_low)            0.255797            0.458489  0.061331    0.239766  0.522948 -0.055949    0.712295\n",
      "882           (density_low)  (quality_low)            0.256545            0.458489  0.069559    0.271137  0.591371 -0.048064    0.742953\n"
     ]
    }
   ],
   "source": [
    "\"\"\"\n",
    "Ergebnisse mit geringem Lift\n",
    "- wenig freie sauere -> unwahrscheinlicher dass wein schlecht\n",
    "- viele sulfate -> unwahrscheinlicher dass wein schlecht\n",
    "\n",
    "2 Klassen (und max_len=2)\n",
    "- wenig alk -> guter wein unwahrscheinlicher\n",
    "- und viel mehr\n",
    "\"\"\"\n",
    "analysis = apriori(df, min_support=0.05, use_colnames=True, max_len=2)\n",
    "rules = association_rules(analysis, min_threshold=0.00)\n",
    "rules = rules[rules.consequents.apply(lambda c: bool(c.intersection({\"quality_low\",\"quality_mid\",\"quality_high\"})))]\n",
    "rules.sort_values(by=\"lift\", ascending=True, inplace=True)\n",
    "#print(rules)\n",
    "print(rules.loc[[998,206,882]])"
   ]
  }
 ],
 "metadata": {
  "interpreter": {
   "hash": "3e66ebd9e06655030854f0576b2d6083431f97733d04263bc8805d906736533f"
  },
  "kernelspec": {
   "display_name": "Python 3.9.9 64-bit ('.venv': venv)",
   "language": "python",
   "name": "python3"
  },
  "language_info": {
   "codemirror_mode": {
    "name": "ipython",
    "version": 3
   },
   "file_extension": ".py",
   "mimetype": "text/x-python",
   "name": "python",
   "nbconvert_exporter": "python",
   "pygments_lexer": "ipython3",
   "version": "3.9.9"
  },
  "orig_nbformat": 4
 },
 "nbformat": 4,
 "nbformat_minor": 2
}
