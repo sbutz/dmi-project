{
 "cells": [
  {
   "cell_type": "markdown",
   "metadata": {},
   "source": [
    "# Assoziaionsanlayse\n",
    "\n",
    "Untersucht wird nur der Datensatz der Rotweine (~1600 Zeilen).\n",
    "Der Datensatz der Weißweine ist zu groß (~5000 Zielen)."
   ]
  },
  {
   "cell_type": "markdown",
   "metadata": {},
   "source": [
    "## Setup"
   ]
  },
  {
   "cell_type": "code",
   "execution_count": null,
   "metadata": {},
   "outputs": [],
   "source": [
    "# Setup\n",
    "from mlxtend.frequent_patterns import apriori, association_rules\n",
    "from scipy import stats\n",
    "import matplotlib.pyplot as plt\n",
    "import numpy as np\n",
    "import pandas as pd\n",
    "import pandas.plotting"
   ]
  },
  {
   "cell_type": "code",
   "execution_count": null,
   "metadata": {},
   "outputs": [],
   "source": [
    "# Info über Spalten (detusche Übersetzungen, ...)\n",
    "columns = {\n",
    "    \"fixed acidity\": {\n",
    "        \"de\": \"Fester Säuregehalt [g/L]\",\n",
    "    },\n",
    "    \"volatile acidity\": {\n",
    "        \"de\": \"Flüchtiger Säuregehalt [g/L]\",\n",
    "    },\n",
    "    \"citric acid\": {\n",
    "        \"de\": \"Citronensäure [g/L]\",\n",
    "    },\n",
    "    \"residual sugar\": {\n",
    "        \"de\": \"Restzucker [g/L]\",\n",
    "        \"fixed_filter\": 10.0,\n",
    "    },\n",
    "    \"chlorides\": {\n",
    "        \"de\": \"Chloride [g/L]\",\n",
    "        \"fixed_filter\": 0.3,\n",
    "    },\n",
    "    \"free sulfur dioxide\": {\n",
    "        \"de\": \"Freie Schwefeloxide [mg/L]\",\n",
    "    },\n",
    "    \"total sulfur dioxide\": {\n",
    "        \"de\": \"Schwefeloxide [mg/L]\",\n",
    "    },\n",
    "    \"density\": {\n",
    "        \"de\": \"Dichte [g/cm3]\",\n",
    "    },\n",
    "    \"pH\": {\n",
    "        \"de\": \"pH-Wert\",\n",
    "    },\n",
    "    \"sulphates\": {\n",
    "        \"de\": \"Sulfate [g/L]\",\n",
    "    },\n",
    "    \"alcohol\": {\n",
    "        \"de\": \"Alkohol [vol.%]\",\n",
    "    },\n",
    "    \"quality\": {\n",
    "        \"de\": \"Qualität\",\n",
    "    },\n",
    "}"
   ]
  },
  {
   "cell_type": "code",
   "execution_count": null,
   "metadata": {},
   "outputs": [],
   "source": [
    "# Einelsen der Daten\n",
    "df_red = pd.read_csv('winequality-red.csv', sep=';', header=0)"
   ]
  },
  {
   "cell_type": "markdown",
   "metadata": {},
   "source": [
    "## Bereinigung der Daten"
   ]
  },
  {
   "cell_type": "markdown",
   "metadata": {},
   "source": [
    "### Null-Werte"
   ]
  },
  {
   "cell_type": "code",
   "execution_count": null,
   "metadata": {},
   "outputs": [],
   "source": [
    "# Null-Werte prüfen\n",
    "print(df_red.isna().sum().sum())"
   ]
  },
  {
   "cell_type": "markdown",
   "metadata": {},
   "source": [
    "### Ausreißer"
   ]
  },
  {
   "cell_type": "code",
   "execution_count": null,
   "metadata": {},
   "outputs": [],
   "source": [
    "def hist(df):\n",
    "    fig = plt.figure(\n",
    "        num=\"Histogramm\",\n",
    "        figsize=(12,9),\n",
    "    )\n",
    "    fig.subplots_adjust(hspace=0.4, wspace=0.5)\n",
    "\n",
    "    for i, column in enumerate(columns.keys()):\n",
    "        f = fig.add_subplot(4, 3, i+1)\n",
    "        f.set_title(columns[column][\"de\"])\n",
    "        f.hist(df[column], bins=20)\n",
    "        f.axvline(df[column].mean(), color='k', linestyle='dashed', linewidth=1)\n",
    "        # TODO: print outliers red\n",
    "        # (https://stackoverflow.com/questions/49290266/python-matplotlib-histogram-specify-different-colours-for-different-bars)\n",
    "\n",
    "    plt.show()\n",
    "\n",
    "def box_plot(df):\n",
    "    fig = plt.figure(\n",
    "        num=\"Box Plot\",\n",
    "        figsize=(12,9),\n",
    "    )\n",
    "    fig.subplots_adjust(hspace=0.4, wspace=0.5)\n",
    "\n",
    "    for i, column in enumerate(columns.keys()):\n",
    "        f = fig.add_subplot(4, 3, i+1)\n",
    "        f.set_title(columns[column][\"de\"])\n",
    "        f.boxplot(df[column], vert=False)\n",
    "\n",
    "    plt.show()"
   ]
  },
  {
   "cell_type": "code",
   "execution_count": null,
   "metadata": {},
   "outputs": [],
   "source": [
    "hist(df_red)\n",
    "box_plot(df_red)"
   ]
  },
  {
   "cell_type": "code",
   "execution_count": null,
   "metadata": {},
   "outputs": [],
   "source": [
    "def print_outliers(df):\n",
    "    # Z-Score ist die Abweichung vom Mittelwert in Standardabweichungen\n",
    "    # betragsmäßig hoher Z-Score deutet auf Ausreißer hin.\n",
    "    z = np.abs(stats.zscore(df))\n",
    "\n",
    "    for i, column in enumerate(columns):\n",
    "        print(\"\\n\")\n",
    "        print(column)\n",
    "\n",
    "        filter = (z[column] > 2.5)\n",
    "        if \"fixed_filter\" in columns[column].keys():\n",
    "            filter = (df[column] > columns[column][\"fixed_filter\"])\n",
    "        print(df[filter].sort_values(by=column))\n",
    "\n",
    "\n",
    "def remove_outliers(df, max_z_score):\n",
    "    z = np.abs(stats.zscore(df))\n",
    "    filter = (z < max_z_score).all(axis=1)\n",
    "    return df[filter]"
   ]
  },
  {
   "cell_type": "code",
   "execution_count": null,
   "metadata": {},
   "outputs": [],
   "source": [
    "print_outliers(df_red)\n",
    "\n",
    "# Datensatz bereinigen\n",
    "#df = remove_outliers(df_red, 2.5)\n",
    "#hist(df)\n",
    "#df.to_csv('./winequality-red-filtered.csv', sep=';', header=True, index=False)"
   ]
  },
  {
   "cell_type": "markdown",
   "metadata": {},
   "source": [
    "### Ergebnisse\n",
    "\n",
    "Es gibt viele Ausreißer.\n",
    "Fehlmessungen werden aufgrund physikalischer Zusammenhänge einiger Spalten ausgeschlossen.\n",
    "Die Ausreißer sind vermutlich der Tatsache geschuldet, dass Wein ein Naturprodukt ist."
   ]
  },
  {
   "cell_type": "code",
   "execution_count": null,
   "metadata": {},
   "outputs": [],
   "source": [
    "# Extrem hohe Citronensäure, sehr hoher Alkohlgehalt, sehr niedriger PH-Wert\n",
    "print(df_red.loc[652])\n",
    "\n",
    "# Extrem hohe Citronensäure, sehr niedriger PH-Wert\n",
    "# Extrem hohe Chlorid-Werte üblich bei Meernahen Weinanbaugebieten wie Portugal\n",
    "# https://www.institut-heidger.de/anionen/.\n",
    "print(df_red.loc[151])"
   ]
  },
  {
   "cell_type": "markdown",
   "metadata": {},
   "source": [
    "## Zusammenhänge\n",
    "- Zusammenhang: Feste Säure - Citronensäure - PH-Wert - Dichte\n",
    "- Zusammenhang: Schwefeloxide - freie Schwefeloxide\n",
    "- Zusammenhang: Flüchtige Säuren - Akohol - Qualität"
   ]
  },
  {
   "cell_type": "code",
   "execution_count": null,
   "metadata": {},
   "outputs": [],
   "source": [
    "def scatter(df, columns):\n",
    "    pd.plotting.scatter_matrix(df[columns],\n",
    "        figsize=(15, 15),\n",
    "        marker=\"o\",\n",
    "        c=df['quality'].values,\n",
    "        s=30,\n",
    "        alpha=0.8,\n",
    "    )\n",
    "    plt.show()"
   ]
  },
  {
   "cell_type": "code",
   "execution_count": null,
   "metadata": {},
   "outputs": [],
   "source": [
    "\n",
    "scatter(df_red, [\"fixed acidity\",\"citric acid\",\"density\",\"pH\"])\n",
    "scatter(df_red, [\"free sulfur dioxide\",\"total sulfur dioxide\"])\n",
    "scatter(df_red, [\"volatile acidity\",\"alcohol\",\"quality\"])"
   ]
  },
  {
   "cell_type": "code",
   "execution_count": 67,
   "metadata": {},
   "outputs": [
    {
     "name": "stdout",
     "output_type": "stream",
     "text": [
      "fixed acidity:  7.1  9.2\n",
      "volatile acidity:  0.39  0.64\n",
      "citric acid:  0.09  0.42\n",
      "residual sugar:  1.9  2.6\n",
      "chlorides:  0.07  0.09\n",
      "free sulfur dioxide:  7.0  21.0\n",
      "total sulfur dioxide:  22.0  62.0\n",
      "density:  0.9956  0.997835\n",
      "pH:  3.21  3.4\n",
      "sulphates:  0.55  0.73\n",
      "alcohol:  9.5  11.1\n",
      "quality:  5.0  6.0\n"
     ]
    }
   ],
   "source": [
    "# Einteilung in je 3 Klassen (unter 25%, 25-75%, ueber 75% Quantil)\n",
    "# ==> Binäre Matrix für mlextends Funktionen\n",
    "df = pd.DataFrame()\n",
    "for c in columns.keys():\n",
    "    q_25 = df_red[c].quantile(q=0.25)\n",
    "    q_75 = df_red[c].quantile(q=0.75)\n",
    "    print(f'{c}:  {q_25}  {q_75}')\n",
    "    #df[f'{c}_low'] = df_red[c].le(q_25).astype(int)\n",
    "    #df[f'{c}_mid'] = df_red[c].between(q_25, q_75, inclusive='right').astype(int)\n",
    "    df[f'{c}_low'] = df_red[c].le(q_75).astype(int)\n",
    "    df[f'{c}_high'] = df_red[c].gt(q_75).astype(int)"
   ]
  },
  {
   "cell_type": "code",
   "execution_count": null,
   "metadata": {},
   "outputs": [],
   "source": [
    "pd.set_option('display.max_rows', None)\n",
    "pd.set_option('display.max_columns', None)\n",
    "pd.set_option('display.expand_frame_repr', False)\n",
    "\n",
    "#TODO\n",
    "# support min 5% (sonst nicht aussagekräftig)\n",
    "# alle kombinationen aus 2/3 klassen und max_len=2/3/4\n",
    "# hohe konfidenz\n",
    "# hoher lift\n",
    "# lift bei 1\n",
    "# kleiner lift"
   ]
  },
  {
   "cell_type": "code",
   "execution_count": 62,
   "metadata": {},
   "outputs": [
    {
     "name": "stdout",
     "output_type": "stream",
     "text": [
      "                     antecedents                 consequents  antecedent support  consequent support   support  confidence      lift  leverage  conviction\n",
      "68          (fixed acidity_high)                    (pH_low)            0.247655            0.757974  0.240150    0.969697  1.279328  0.052434    7.986867\n",
      "31                     (pH_high)         (fixed acidity_low)            0.242026            0.752345  0.234522    0.968992  1.287962  0.052434    7.986867\n",
      "150      (volatile acidity_high)               (quality_low)            0.235147            0.864290  0.225141    0.957447  1.107784  0.021905    3.189181\n",
      "208           (citric acid_high)                    (pH_low)            0.248906            0.757974  0.237023    0.952261  1.256325  0.048359    5.069813\n",
      "174                    (pH_high)           (citric acid_low)            0.242026            0.751094  0.230144    0.950904  1.266025  0.048359    5.069813\n",
      "412  (total sulfur dioxide_high)               (quality_low)            0.248906            0.864290  0.234522    0.942211  1.090156  0.019395    2.348370\n",
      "84            (citric acid_high)      (volatile acidity_low)            0.248906            0.764853  0.233896    0.939698  1.228600  0.043520    3.899521\n",
      "122      (volatile acidity_high)           (citric acid_low)            0.235147            0.751094  0.220138    0.936170  1.246408  0.043520    3.899521\n",
      "476                (alcohol_low)               (quality_low)            0.762351            0.864290  0.712320    0.934372  1.081086  0.053427    2.067878\n",
      "120               (quality_high)      (volatile acidity_low)            0.135710            0.764853  0.125704    0.926267  1.211040  0.021905    3.189181\n",
      "464              (sulphates_low)               (quality_low)            0.758599            0.864290  0.694184    0.915087  1.058772  0.038534    1.598214\n",
      "438               (density_high)               (quality_low)            0.250156            0.864290  0.227017    0.907500  1.049995  0.010809    1.467133\n",
      "437               (density_high)               (alcohol_low)            0.250156            0.762351  0.225766    0.902500  1.183837  0.035059    2.437421\n",
      "376   (free sulfur dioxide_high)               (quality_low)            0.248906            0.864290  0.223890    0.899497  1.040736  0.008763    1.350313\n",
      "184            (citric acid_low)               (quality_low)            0.751094            0.864290  0.674797    0.898418  1.039487  0.025633    1.335963\n",
      "425               (alcohol_high)               (density_low)            0.237649            0.749844  0.213258    0.897368  1.196741  0.035059    2.437421\n",
      "458                    (pH_high)               (quality_low)            0.242026            0.864290  0.217011    0.896641  1.037430  0.007830    1.312992\n",
      "396               (quality_high)  (total sulfur dioxide_low)            0.135710            0.751094  0.121326    0.894009  1.190275  0.019395    2.348370\n",
      "5              (citric acid_low)         (fixed acidity_low)            0.751094            0.752345  0.671044    0.893422  1.187516  0.105962    2.323698\n",
      "4            (fixed acidity_low)           (citric acid_low)            0.752345            0.751094  0.671044    0.891937  1.187516  0.105962    2.303334\n"
     ]
    }
   ],
   "source": [
    "# hohe konfidenz\n",
    "\"\"\" Ergebnis:\n",
    "- zusammenhang niedriger freier schwefelanteil und niedriger gesamtschwefelanteil\n",
    "- wenig alkohol -> niedrigere qualitaet (wenig alkhol, weniger suesse trauben, billiger)\n",
    "- wenig sulfate -> niedrigere qualitaet\n",
    "- viel schwefel -> niedrigere qualitaet (schwefel = haltbarkeitsmittel, mehr noetig bei faulen trauben)\n",
    "- hohe fluechtige saeureanteile -> niedrigere qualitaet\n",
    "- zusammenhang hohe citronensaeuere und viel feste saeure\n",
    "- zusammenhang ph-wert saeure\n",
    "- zusammenhang freier und gesamt schwefel\n",
    "- zusammenhang hoher alkohol -> geringe dichte\n",
    "==> zusammenhaenge bestaetigt\n",
    "==> neu: kriterien fuer schlechten wein gefunden (lift allerdings oft nicht hoch)\n",
    "\n",
    "2 Klassen:\n",
    "- hohe dichte -> alkohol low und geringere qualitaet\n",
    "- wenig citronensaeure -> qualiaet low (geringer lift)\n",
    "- ph high -> qualitaet low (geringer lift)\n",
    "\"\"\"\n",
    "# Auch mit max_len=3 und head(30) getestet\n",
    "analysis = apriori(df, min_support=0.05, use_colnames=True, max_len=2)\n",
    "rules = association_rules(analysis, min_threshold=0.00)\n",
    "rules.sort_values(by=\"confidence\", ascending=False, inplace=True)\n",
    "print(rules.head(20))"
   ]
  },
  {
   "cell_type": "code",
   "execution_count": 68,
   "metadata": {},
   "outputs": [
    {
     "name": "stdout",
     "output_type": "stream",
     "text": [
      "                     antecedents                  consequents  antecedent support  consequent support   support  confidence      lift  leverage  conviction\n",
      "48          (fixed acidity_high)           (citric acid_high)            0.247655            0.248906  0.167605    0.676768  2.718974  0.105962    2.323698\n",
      "49            (citric acid_high)         (fixed acidity_high)            0.248906            0.247655  0.167605    0.673367  2.718974  0.105962    2.303334\n",
      "483               (alcohol_high)               (quality_high)            0.237649            0.135710  0.085679    0.360526  2.656597  0.053427    1.351565\n",
      "482               (quality_high)               (alcohol_high)            0.135710            0.237649  0.085679    0.631336  2.656597  0.053427    2.067878\n",
      "67                (density_high)         (fixed acidity_high)            0.250156            0.247655  0.156973    0.627500  2.533769  0.095021    2.019719\n",
      "66          (fixed acidity_high)               (density_high)            0.247655            0.250156  0.156973    0.633838  2.533769  0.095021    2.047849\n",
      "359   (free sulfur dioxide_high)  (total sulfur dioxide_high)            0.248906            0.248906  0.144465    0.580402  2.331816  0.082511    1.790033\n",
      "358  (total sulfur dioxide_high)   (free sulfur dioxide_high)            0.248906            0.248906  0.144465    0.580402  2.331816  0.082511    1.790033\n",
      "474               (quality_high)             (sulphates_high)            0.135710            0.241401  0.071295    0.525346  2.176237  0.038534    1.598214\n",
      "475             (sulphates_high)               (quality_high)            0.241401            0.135710  0.071295    0.295337  2.176237  0.038534    1.226529\n",
      "268               (density_high)        (residual sugar_high)            0.250156            0.222014  0.120700    0.482500  2.173289  0.065162    1.503355\n",
      "269        (residual sugar_high)               (density_high)            0.222014            0.250156  0.120700    0.543662  2.173289  0.065162    1.643176\n",
      "207               (density_high)           (citric acid_high)            0.250156            0.248906  0.121326    0.485000  1.948530  0.059061    1.458436\n",
      "206           (citric acid_high)               (density_high)            0.248906            0.250156  0.121326    0.487437  1.948530  0.059061    1.462930\n",
      "213             (sulphates_high)           (citric acid_high)            0.241401            0.248906  0.110069    0.455959  1.831854  0.049983    1.380583\n",
      "212           (citric acid_high)             (sulphates_high)            0.248906            0.241401  0.110069    0.442211  1.831854  0.049983    1.360011\n",
      "220               (quality_high)           (citric acid_high)            0.135710            0.248906  0.059412    0.437788  1.758852  0.025633    1.335963\n",
      "221           (citric acid_high)               (quality_high)            0.248906            0.135710  0.059412    0.238693  1.758852  0.025633    1.135272\n",
      "321               (density_high)             (chlorides_high)            0.250156            0.247655  0.098812    0.395000  1.594962  0.036859    1.243546\n",
      "320             (chlorides_high)               (density_high)            0.247655            0.250156  0.098812    0.398990  1.594962  0.036859    1.247639\n"
     ]
    }
   ],
   "source": [
    "# hoher lift\n",
    "\"\"\"Erkenntnis\n",
    "- alkohol high -> quality high (geringe konfidenz aber hoher lift)\n",
    "- fluechtige saeuren low -> quality_high (geringe konfidenz, aber hoher lift)\n",
    "- viele sulfate -> quality high\n",
    "==> nicht auschlaggebend, aber macht guten wein wahrscheinlicher, als 2./3. auswahlkriterium\n",
    "\n",
    "2 Klassen:\n",
    "- viel citronensaeure -> quality high (gerine konfidenz)\n",
    "\"\"\"\n",
    "analysis = apriori(df, min_support=0.05, use_colnames=True, max_len=2)\n",
    "rules = association_rules(analysis, min_threshold=0.00)\n",
    "rules.sort_values(by=\"lift\", ascending=False, inplace=True)\n",
    "print(rules.head(20))"
   ]
  },
  {
   "cell_type": "code",
   "execution_count": 73,
   "metadata": {},
   "outputs": [
    {
     "name": "stdout",
     "output_type": "stream",
     "text": [
      "                    antecedents    consequents  antecedent support  consequent support   support  confidence      lift  leverage  conviction\n",
      "280       (residual sugar_high)  (quality_low)            0.222014             0.86429  0.185116    0.833803  0.964726 -0.006769    0.816559\n",
      "118      (volatile acidity_low)  (quality_low)            0.764853             0.86429  0.639149    0.835650  0.966863 -0.021905    0.825737\n",
      "394  (total sulfur dioxide_low)  (quality_low)            0.751094             0.86429  0.629769    0.838468  0.970123 -0.019395    0.840142\n",
      "426               (density_low)  (quality_low)            0.749844             0.86429  0.637273    0.849875  0.983321 -0.010809    0.903978\n",
      "352   (free sulfur dioxide_low)  (quality_low)            0.751094             0.86429  0.640400    0.852623  0.986501 -0.008763    0.920833\n",
      "449                    (pH_low)  (quality_low)            0.757974             0.86429  0.647280    0.853960  0.988048 -0.007830    0.929267\n",
      "306             (chlorides_low)  (quality_low)            0.752345             0.86429  0.643527    0.855362  0.989669 -0.006717    0.938270\n",
      "250        (residual sugar_low)  (quality_low)            0.777986             0.86429  0.679174    0.872990  1.010066  0.006769    1.068500\n",
      "40          (fixed acidity_low)  (quality_low)            0.752345             0.86429  0.668543    0.888612  1.028141  0.018298    1.218350\n",
      "330            (chlorides_high)  (quality_low)            0.247655             0.86429  0.220763    0.891414  1.031383  0.006717    1.249793\n",
      "458                   (pH_high)  (quality_low)            0.242026             0.86429  0.217011    0.896641  1.037430  0.007830    1.312992\n",
      "184           (citric acid_low)  (quality_low)            0.751094             0.86429  0.674797    0.898418  1.039487  0.025633    1.335963\n",
      "376  (free sulfur dioxide_high)  (quality_low)            0.248906             0.86429  0.223890    0.899497  1.040736  0.008763    1.350313\n",
      "438              (density_high)  (quality_low)            0.250156             0.86429  0.227017    0.907500  1.049995  0.010809    1.467133\n"
     ]
    }
   ],
   "source": [
    "# lift near 1\n",
    "\"\"\" Erkenntis\n",
    "Leider Attribute findbar die keinen Einfluss auf gut/schlechte Qualitaet haben.\n",
    "=> So notieren und zeigen, dass man an lift near 1 gedacht hat\n",
    "\n",
    "2 Klassen (Mit max_len2):\n",
    "hoher restzucker, wenig fluechtige, .... -> keinen Einfluss auf qualitaet low\n",
    "\"\"\"\n",
    "analysis = apriori(df, min_support=0.05, use_colnames=True, max_len=2)\n",
    "rules = association_rules(analysis, min_threshold=0.00)\n",
    "rules = rules[rules.lift.between(0.95,1.05)]\n",
    "rules = rules[rules.consequents.apply(lambda c: bool(c.intersection({\"quality_low\",\"quality_mid\",\"quality_high\"})))]\n",
    "rules.sort_values(by=\"lift\", ascending=True, inplace=True)\n",
    "print(rules)"
   ]
  },
  {
   "cell_type": "code",
   "execution_count": 76,
   "metadata": {},
   "outputs": [
    {
     "name": "stdout",
     "output_type": "stream",
     "text": [
      "                     antecedents     consequents  antecedent support  consequent support   support  confidence      lift  leverage  conviction\n",
      "479                (alcohol_low)  (quality_high)            0.762351             0.13571  0.050031    0.065628  0.483587 -0.053427    0.924995\n",
      "467              (sulphates_low)  (quality_high)            0.758599             0.13571  0.064415    0.084913  0.625699 -0.038534    0.944490\n",
      "481               (alcohol_high)   (quality_low)            0.237649             0.86429  0.151970    0.639474  0.739883 -0.053427    0.376421\n",
      "187            (citric acid_low)  (quality_high)            0.751094             0.13571  0.076298    0.101582  0.748524 -0.025633    0.962013\n",
      "472             (sulphates_high)   (quality_low)            0.241401             0.86429  0.170106    0.704663  0.815309 -0.038534    0.459509\n",
      "43           (fixed acidity_low)  (quality_high)            0.752345             0.13571  0.083802    0.111388  0.820782 -0.018298    0.972630\n",
      "218           (citric acid_high)   (quality_low)            0.248906             0.86429  0.189493    0.761307  0.880846 -0.025633    0.568553\n",
      "78          (fixed acidity_high)   (quality_low)            0.247655             0.86429  0.195747    0.790404  0.914512 -0.018298    0.647483\n",
      "253         (residual sugar_low)  (quality_high)            0.777986             0.13571  0.098812    0.127010  0.935891 -0.006769    0.990034\n",
      "280        (residual sugar_high)   (quality_low)            0.222014             0.86429  0.185116    0.833803  0.964726 -0.006769    0.816559\n",
      "118       (volatile acidity_low)   (quality_low)            0.764853             0.86429  0.639149    0.835650  0.966863 -0.021905    0.825737\n",
      "394   (total sulfur dioxide_low)   (quality_low)            0.751094             0.86429  0.629769    0.838468  0.970123 -0.019395    0.840142\n",
      "426                (density_low)   (quality_low)            0.749844             0.86429  0.637273    0.849875  0.983321 -0.010809    0.903978\n",
      "352    (free sulfur dioxide_low)   (quality_low)            0.751094             0.86429  0.640400    0.852623  0.986501 -0.008763    0.920833\n",
      "449                     (pH_low)   (quality_low)            0.757974             0.86429  0.647280    0.853960  0.988048 -0.007830    0.929267\n",
      "306              (chlorides_low)   (quality_low)            0.752345             0.86429  0.643527    0.855362  0.989669 -0.006717    0.938270\n",
      "250         (residual sugar_low)   (quality_low)            0.777986             0.86429  0.679174    0.872990  1.010066  0.006769    1.068500\n",
      "40           (fixed acidity_low)   (quality_low)            0.752345             0.86429  0.668543    0.888612  1.028141  0.018298    1.218350\n",
      "330             (chlorides_high)   (quality_low)            0.247655             0.86429  0.220763    0.891414  1.031383  0.006717    1.249793\n",
      "458                    (pH_high)   (quality_low)            0.242026             0.86429  0.217011    0.896641  1.037430  0.007830    1.312992\n",
      "184            (citric acid_low)   (quality_low)            0.751094             0.86429  0.674797    0.898418  1.039487  0.025633    1.335963\n",
      "376   (free sulfur dioxide_high)   (quality_low)            0.248906             0.86429  0.223890    0.899497  1.040736  0.008763    1.350313\n",
      "438               (density_high)   (quality_low)            0.250156             0.86429  0.227017    0.907500  1.049995  0.010809    1.467133\n",
      "464              (sulphates_low)   (quality_low)            0.758599             0.86429  0.694184    0.915087  1.058772  0.038534    1.598214\n",
      "309              (chlorides_low)  (quality_high)            0.752345             0.13571  0.108818    0.144638  1.065792  0.006717    1.010438\n",
      "451                     (pH_low)  (quality_high)            0.757974             0.13571  0.110694    0.146040  1.076117  0.007830    1.012096\n",
      "476                (alcohol_low)   (quality_low)            0.762351             0.86429  0.712320    0.934372  1.081086  0.053427    2.067878\n",
      "355    (free sulfur dioxide_low)  (quality_high)            0.751094             0.13571  0.110694    0.147377  1.085973  0.008763    1.013684\n",
      "412  (total sulfur dioxide_high)   (quality_low)            0.248906             0.86429  0.234522    0.942211  1.090156  0.019395    2.348370\n",
      "429                (density_low)  (quality_high)            0.749844             0.13571  0.112570    0.150125  1.106221  0.010809    1.016962\n"
     ]
    }
   ],
   "source": [
    "# lift low\n",
    "\"\"\" Erkenntis\n",
    "- wenig freie sauere -> unwahrscheinlicher dass wein schlecht\n",
    "- viele sulfate -> unwahrscheinlicher dass wein schlecht\n",
    "- mittlere dicht -> hoher alkohol gehalt unwahrscheinlicher\n",
    "\n",
    "2 Klassen (und max_len=2)\n",
    "- wenig alk -> guter wein unwahrscheinlicher\n",
    "- und viel mehr\n",
    "\"\"\"\n",
    "analysis = apriori(df, min_support=0.05, use_colnames=True, max_len=2)\n",
    "rules = association_rules(analysis, min_threshold=0.00)\n",
    "rules = rules[rules.consequents.apply(lambda c: bool(c.intersection({\"quality_low\",\"quality_mid\",\"quality_high\"})))]\n",
    "rules.sort_values(by=\"lift\", ascending=True, inplace=True)\n",
    "print(rules.head(30))"
   ]
  },
  {
   "cell_type": "code",
   "execution_count": null,
   "metadata": {},
   "outputs": [],
   "source": []
  }
 ],
 "metadata": {
  "interpreter": {
   "hash": "3e66ebd9e06655030854f0576b2d6083431f97733d04263bc8805d906736533f"
  },
  "kernelspec": {
   "display_name": "Python 3.9.9 64-bit ('.venv': venv)",
   "language": "python",
   "name": "python3"
  },
  "language_info": {
   "codemirror_mode": {
    "name": "ipython",
    "version": 3
   },
   "file_extension": ".py",
   "mimetype": "text/x-python",
   "name": "python",
   "nbconvert_exporter": "python",
   "pygments_lexer": "ipython3",
   "version": "3.9.9"
  },
  "orig_nbformat": 4
 },
 "nbformat": 4,
 "nbformat_minor": 2
}
