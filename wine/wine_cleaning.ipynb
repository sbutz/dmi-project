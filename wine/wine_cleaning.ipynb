{
 "cells": [
  {
   "cell_type": "markdown",
   "metadata": {},
   "source": [
    "# Bereinigung"
   ]
  },
  {
   "cell_type": "markdown",
   "metadata": {},
   "source": [
    "### Setup"
   ]
  },
  {
   "cell_type": "code",
   "execution_count": null,
   "metadata": {},
   "outputs": [],
   "source": [
    "# Setup\n",
    "from mlxtend.frequent_patterns import apriori, association_rules\n",
    "from scipy import stats\n",
    "import matplotlib.pyplot as plt\n",
    "import numpy as np\n",
    "import pandas as pd\n",
    "import pandas.plotting"
   ]
  },
  {
   "cell_type": "code",
   "execution_count": null,
   "metadata": {},
   "outputs": [],
   "source": [
    "# Info über Spalten (detusche Übersetzungen, ...)\n",
    "columns = {\n",
    "    \"fixed acidity\": {\n",
    "        \"de\": \"Fester Säuregehalt [g/L]\",\n",
    "    },\n",
    "    \"volatile acidity\": {\n",
    "        \"de\": \"Flüchtiger Säuregehalt [g/L]\",\n",
    "    },\n",
    "    \"citric acid\": {\n",
    "        \"de\": \"Citronensäure [g/L]\",\n",
    "    },\n",
    "    \"residual sugar\": {\n",
    "        \"de\": \"Restzucker [g/L]\",\n",
    "        \"fixed_filter\": 10.0,\n",
    "    },\n",
    "    \"chlorides\": {\n",
    "        \"de\": \"Chloride [g/L]\",\n",
    "        \"fixed_filter\": 0.3,\n",
    "    },\n",
    "    \"free sulfur dioxide\": {\n",
    "        \"de\": \"Freie Schwefeloxide [mg/L]\",\n",
    "    },\n",
    "    \"total sulfur dioxide\": {\n",
    "        \"de\": \"Schwefeloxide [mg/L]\",\n",
    "    },\n",
    "    \"density\": {\n",
    "        \"de\": \"Dichte [g/cm3]\",\n",
    "    },\n",
    "    \"pH\": {\n",
    "        \"de\": \"pH-Wert\",\n",
    "    },\n",
    "    \"sulphates\": {\n",
    "        \"de\": \"Sulfate [g/L]\",\n",
    "    },\n",
    "    \"alcohol\": {\n",
    "        \"de\": \"Alkohol [vol.%]\",\n",
    "    },\n",
    "    \"quality\": {\n",
    "        \"de\": \"Qualität\",\n",
    "    },\n",
    "}"
   ]
  },
  {
   "cell_type": "code",
   "execution_count": null,
   "metadata": {},
   "outputs": [],
   "source": [
    "# Einelsen der Daten\n",
    "df_red = pd.read_csv('winequality-red.csv', sep=';', header=0) \n",
    "df_white = pd.read_csv('winequality-white.csv', sep=';', header=0) "
   ]
  },
  {
   "cell_type": "markdown",
   "metadata": {},
   "source": [
    "### Null-Werte"
   ]
  },
  {
   "cell_type": "code",
   "execution_count": null,
   "metadata": {},
   "outputs": [],
   "source": [
    "# Null-Werte prüfen\n",
    "print(df_red.isna().sum().sum())\n",
    "print(df_white.isna().sum().sum())"
   ]
  },
  {
   "cell_type": "markdown",
   "metadata": {},
   "source": [
    "### Ausreißer"
   ]
  },
  {
   "cell_type": "code",
   "execution_count": null,
   "metadata": {},
   "outputs": [],
   "source": [
    "def hist(df):\n",
    "    fig = plt.figure(\n",
    "        num=\"Histogramm\",\n",
    "        figsize=(12,9),\n",
    "    )\n",
    "    fig.subplots_adjust(hspace=0.4, wspace=0.5)\n",
    "\n",
    "    for i, column in enumerate(columns.keys()):\n",
    "        f = fig.add_subplot(4, 3, i+1)\n",
    "        f.set_title(columns[column][\"de\"])\n",
    "        f.hist(df[column], bins=20)\n",
    "        f.axvline(df[column].mean(), color='k', linestyle='dashed', linewidth=1)\n",
    "        # TODO: print outliers red\n",
    "        # (https://stackoverflow.com/questions/49290266/python-matplotlib-histogram-specify-different-colours-for-different-bars)\n",
    "\n",
    "    plt.show()\n",
    "\n",
    "def box_plot(df):\n",
    "    fig = plt.figure(\n",
    "        num=\"Box Plot\",\n",
    "        figsize=(12,9),\n",
    "    )\n",
    "    fig.subplots_adjust(hspace=0.4, wspace=0.5)\n",
    "\n",
    "    for i, column in enumerate(columns.keys()):\n",
    "        f = fig.add_subplot(4, 3, i+1)\n",
    "        f.set_title(columns[column][\"de\"])\n",
    "        f.boxplot(df[column], vert=False)\n",
    "\n",
    "    plt.show()\n",
    "\n",
    "def print_outliers(df, min_z_score):\n",
    "    # Z-Score ist die Abweichung vom Mittelwert in Standardabweichungen\n",
    "    # betragsmäßig hoher Z-Score deutet auf Ausreißer hin.\n",
    "    z = np.abs(stats.zscore(df))\n",
    "\n",
    "    for i, column in enumerate(columns):\n",
    "        print(\"\\n\")\n",
    "        print(column)\n",
    "\n",
    "        filter = (z[column] > min_z_score)\n",
    "        if \"fixed_filter\" in columns[column].keys():\n",
    "            filter = (df[column] > columns[column][\"fixed_filter\"])\n",
    "        print(df[filter].sort_values(by=column))"
   ]
  },
  {
   "cell_type": "code",
   "execution_count": null,
   "metadata": {},
   "outputs": [],
   "source": [
    "hist(df_red)\n",
    "box_plot(df_red)\n",
    "#print_outliers(df_red, 2.5)"
   ]
  },
  {
   "cell_type": "code",
   "execution_count": null,
   "metadata": {},
   "outputs": [],
   "source": [
    "hist(df_white)\n",
    "box_plot(df_white)\n",
    "#print_outliers(df_white, 3.5)"
   ]
  },
  {
   "cell_type": "markdown",
   "metadata": {},
   "source": [
    "### Ergebnisse\n",
    "\n",
    "Es gibt viele Ausreißer.\n",
    "Fehlmessungen werden aufgrund physikalischer Zusammenhänge einiger Spalten ausgeschlossen.\n",
    "\n",
    "Die Ausreißer sind vermutlich der Tatsache geschuldet, dass Wein ein Naturprodukt ist.\n",
    "Da der Fokus nicht auf Nischenprodukten oder Ausschussware liegt, werden Ausreißer entfernt."
   ]
  },
  {
   "cell_type": "code",
   "execution_count": null,
   "metadata": {},
   "outputs": [],
   "source": [
    "# Extrem hohe Citronensäure, sehr hoher Alkohlgehalt, sehr niedriger PH-Wert\n",
    "print(df_red.loc[652])\n",
    "\n",
    "# Extrem hohe Citronensäure, sehr niedriger PH-Wert\n",
    "# Extrem hohe Chlorid-Werte üblich bei Meernahen Weinanbaugebieten wie Portugal\n",
    "# https://www.institut-heidger.de/anionen/.\n",
    "print(df_red.loc[151])"
   ]
  },
  {
   "cell_type": "code",
   "execution_count": null,
   "metadata": {},
   "outputs": [],
   "source": [
    "# Datensatz bereinigen\n",
    "def remove_outliers(df, max_z_score):\n",
    "    z = np.abs(stats.zscore(df.iloc[:,:-1]))\n",
    "    #TODO: dont filter good/bad quality wines\n",
    "    filter = (z < max_z_score).all(axis=1)\n",
    "    return df[filter]"
   ]
  },
  {
   "cell_type": "code",
   "execution_count": null,
   "metadata": {},
   "outputs": [],
   "source": [
    "hist(df_red)\n",
    "df_red = remove_outliers(df_red, 2.5)\n",
    "hist(df_red)\n",
    "df_red.to_csv('./winequality-red-filtered.csv', sep=';', header=True, index=False)"
   ]
  },
  {
   "cell_type": "code",
   "execution_count": null,
   "metadata": {},
   "outputs": [],
   "source": [
    "hist(df_white)\n",
    "df_white = remove_outliers(df_white, 2.5)\n",
    "hist(df_white)\n",
    "df_white.to_csv('./winequality-white-filtered.csv', sep=';', header=True, index=False)"
   ]
  }
 ],
 "metadata": {
  "interpreter": {
   "hash": "3e66ebd9e06655030854f0576b2d6083431f97733d04263bc8805d906736533f"
  },
  "kernelspec": {
   "display_name": "Python 3.9.9 64-bit ('.venv': venv)",
   "language": "python",
   "name": "python3"
  },
  "language_info": {
   "codemirror_mode": {
    "name": "ipython",
    "version": 3
   },
   "file_extension": ".py",
   "mimetype": "text/x-python",
   "name": "python",
   "nbconvert_exporter": "python",
   "pygments_lexer": "ipython3",
   "version": "3.9.9"
  },
  "orig_nbformat": 4
 },
 "nbformat": 4,
 "nbformat_minor": 2
}
